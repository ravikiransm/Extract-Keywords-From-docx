{
 "cells": [
  {
   "cell_type": "code",
   "execution_count": 112,
   "metadata": {},
   "outputs": [],
   "source": [
    "import docx\n",
    "import pandas as pd\n",
    "import nltk\n",
    "from nltk.tokenize import RegexpTokenizer\n",
    "from nltk.corpus import stopwords\n",
    "import re\n",
    "from  gensim.summarization import keywords\n",
    "from collections import defaultdict\n",
    "tokenizer = RegexpTokenizer(r'\\w+')\n",
    "\n",
    "def readtxt(filename):\n",
    "    doc = docx.Document(filename)\n",
    "    fullText = []\n",
    "    for para in doc.paragraphs:\n",
    "        fullText.append(para.text)\n",
    "    return '\\n'.join(fullText)\n",
    "doc=readtxt('test1.docx')"
   ]
  },
  {
   "cell_type": "code",
   "execution_count": 113,
   "metadata": {},
   "outputs": [],
   "source": [
    "\n",
    "def preprocess(sentence):\n",
    "    sentence = sentence.lower()\n",
    "    rem_num = re.sub('[0-9]+', '', sentence)#REMOVING NUMBERS\n",
    "    tokenizer = RegexpTokenizer(r'\\w+')\n",
    "    tokens = tokenizer.tokenize(rem_num)\n",
    "    filtered_words = [w for w in tokens if len(w) > 5 if not w in stopwords.words('english')]\n",
    "    return \" \".join(filtered_words) \n",
    "\n",
    "doc = preprocess(doc) \n"
   ]
  },
  {
   "cell_type": "code",
   "execution_count": 118,
   "metadata": {},
   "outputs": [],
   "source": [
    "#GENISM\n",
    "values = keywords(text=doc,split=' ',scores=True)\n",
    "gen = pd.DataFrame(values,columns=['keyword','score'])\n",
    "gen = gen.sort_values('score',ascending=False)"
   ]
  },
  {
   "cell_type": "code",
   "execution_count": 119,
   "metadata": {},
   "outputs": [],
   "source": [
    "#FREQUENT WORDS\n",
    "ngram_freq = nltk.FreqDist() #WE INITIALIZED A FREQUENCY COUNTER\n",
    "\n",
    "for ngram in nltk.ngrams(tokenizer.tokenize(doc), 1):\n",
    "    ngram_freq[ngram] += 1\n",
    "freq_words=ngram_freq.most_common(10) \n"
   ]
  },
  {
   "cell_type": "code",
   "execution_count": 120,
   "metadata": {},
   "outputs": [],
   "source": [
    "#BIGRAMS\n",
    "words=tokenizer.tokenize(doc)\n",
    "\n",
    "def ngrams(words, n=2, padding=False):\n",
    "    grams =  words \n",
    "    return (tuple(grams[i:i+n]) for i in range(0, len(grams) - (n - 1)))\n",
    "\n",
    "counts = defaultdict(int)\n",
    "for ng in ngrams(words, 2, False):\n",
    "    counts[ng] += 1\n",
    "    \n",
    "bigram=[]\n",
    "for c, ng in sorted(((c, ng) for ng, c in counts.items()), reverse=True):\n",
    "    bigram.append(ng)"
   ]
  },
  {
   "cell_type": "code",
   "execution_count": 121,
   "metadata": {},
   "outputs": [],
   "source": [
    "final=[]\n",
    "final=pd.DataFrame(final)\n",
    "freq_words=pd.DataFrame(freq_words)\n",
    "freq_words[0]=freq_words[0].astype('str')\n",
    "freq_words['freq_words'] = freq_words[0].map(lambda x: re.sub(r'\\W+', '', x))\n",
    "final['uni-grams']=freq_words['freq_words']\n",
    "bigram=pd.DataFrame(bigram)\n",
    "bigram[3]=\"  \"\n",
    "bigram['bigram'] =bigram[0].map(str) +bigram[3] + bigram[1].map(str)\n",
    "final['bi-grams']=bigram['bigram'].head(10)\n",
    "final['genism']=gen['keyword'].head(10)"
   ]
  },
  {
   "cell_type": "code",
   "execution_count": 122,
   "metadata": {},
   "outputs": [
    {
     "data": {
      "text/html": [
       "<div>\n",
       "<style scoped>\n",
       "    .dataframe tbody tr th:only-of-type {\n",
       "        vertical-align: middle;\n",
       "    }\n",
       "\n",
       "    .dataframe tbody tr th {\n",
       "        vertical-align: top;\n",
       "    }\n",
       "\n",
       "    .dataframe thead th {\n",
       "        text-align: right;\n",
       "    }\n",
       "</style>\n",
       "<table border=\"1\" class=\"dataframe\">\n",
       "  <thead>\n",
       "    <tr style=\"text-align: right;\">\n",
       "      <th></th>\n",
       "      <th>uni-grams</th>\n",
       "      <th>bi-grams</th>\n",
       "      <th>NMF/LDA</th>\n",
       "    </tr>\n",
       "  </thead>\n",
       "  <tbody>\n",
       "    <tr>\n",
       "      <th>0</th>\n",
       "      <td>spread</td>\n",
       "      <td>performance  stress</td>\n",
       "      <td>stressed</td>\n",
       "    </tr>\n",
       "    <tr>\n",
       "      <th>1</th>\n",
       "      <td>stress</td>\n",
       "      <td>population  performance</td>\n",
       "      <td>evolution</td>\n",
       "    </tr>\n",
       "    <tr>\n",
       "      <th>2</th>\n",
       "      <td>evolution</td>\n",
       "      <td>spread  favourable</td>\n",
       "      <td>invasion</td>\n",
       "    </tr>\n",
       "    <tr>\n",
       "      <th>3</th>\n",
       "      <td>performance</td>\n",
       "      <td>interspecific  competition</td>\n",
       "      <td>invasive</td>\n",
       "    </tr>\n",
       "    <tr>\n",
       "      <th>4</th>\n",
       "      <td>population</td>\n",
       "      <td>evolution  spread</td>\n",
       "      <td>predictions population spread</td>\n",
       "    </tr>\n",
       "    <tr>\n",
       "      <th>5</th>\n",
       "      <td>populations</td>\n",
       "      <td>evolutionary  change</td>\n",
       "      <td>genotype</td>\n",
       "    </tr>\n",
       "    <tr>\n",
       "      <th>6</th>\n",
       "      <td>plants</td>\n",
       "      <td>stressful  conditions</td>\n",
       "      <td>genotypes</td>\n",
       "    </tr>\n",
       "    <tr>\n",
       "      <th>7</th>\n",
       "      <td>tolerance</td>\n",
       "      <td>favourable  habitat</td>\n",
       "      <td>genotyped</td>\n",
       "    </tr>\n",
       "    <tr>\n",
       "      <th>8</th>\n",
       "      <td>conditions</td>\n",
       "      <td>population  spread</td>\n",
       "      <td>genotypic</td>\n",
       "    </tr>\n",
       "    <tr>\n",
       "      <th>9</th>\n",
       "      <td>evolutionary</td>\n",
       "      <td>generations  spread</td>\n",
       "      <td>stressful environments</td>\n",
       "    </tr>\n",
       "  </tbody>\n",
       "</table>\n",
       "</div>"
      ],
      "text/plain": [
       "      uni-grams                    bi-grams                        NMF/LDA\n",
       "0        spread         performance  stress                       stressed\n",
       "1        stress     population  performance                      evolution\n",
       "2     evolution          spread  favourable                       invasion\n",
       "3   performance  interspecific  competition                       invasive\n",
       "4    population           evolution  spread  predictions population spread\n",
       "5   populations        evolutionary  change                       genotype\n",
       "6        plants       stressful  conditions                      genotypes\n",
       "7     tolerance         favourable  habitat                      genotyped\n",
       "8    conditions          population  spread                      genotypic\n",
       "9  evolutionary         generations  spread         stressful environments"
      ]
     },
     "execution_count": 122,
     "metadata": {},
     "output_type": "execute_result"
    }
   ],
   "source": [
    "final"
   ]
  }
 ],
 "metadata": {
  "kernelspec": {
   "display_name": "Python 3",
   "language": "python",
   "name": "python3"
  },
  "language_info": {
   "codemirror_mode": {
    "name": "ipython",
    "version": 3
   },
   "file_extension": ".py",
   "mimetype": "text/x-python",
   "name": "python",
   "nbconvert_exporter": "python",
   "pygments_lexer": "ipython3",
   "version": "3.6.5"
  }
 },
 "nbformat": 4,
 "nbformat_minor": 2
}
